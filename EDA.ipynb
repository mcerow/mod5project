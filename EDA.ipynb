{
 "cells": [
  {
   "cell_type": "code",
   "execution_count": 43,
   "metadata": {},
   "outputs": [],
   "source": [
    "import pandas as pd\n",
    "import numpy as np\n",
    "import matplotlib.pyplot as plt\n",
    "%matplotlib inline\n",
    "import seaborn as sns"
   ]
  },
  {
   "cell_type": "code",
   "execution_count": 44,
   "metadata": {},
   "outputs": [],
   "source": [
    "df = pd.read_pickle('cleaned_df')"
   ]
  },
  {
   "cell_type": "code",
   "execution_count": 45,
   "metadata": {},
   "outputs": [
    {
     "data": {
      "text/html": [
       "<div>\n",
       "<style scoped>\n",
       "    .dataframe tbody tr th:only-of-type {\n",
       "        vertical-align: middle;\n",
       "    }\n",
       "\n",
       "    .dataframe tbody tr th {\n",
       "        vertical-align: top;\n",
       "    }\n",
       "\n",
       "    .dataframe thead th {\n",
       "        text-align: right;\n",
       "    }\n",
       "</style>\n",
       "<table border=\"1\" class=\"dataframe\">\n",
       "  <thead>\n",
       "    <tr style=\"text-align: right;\">\n",
       "      <th></th>\n",
       "      <th>PlayerName</th>\n",
       "      <th>Position</th>\n",
       "      <th>School</th>\n",
       "      <th>CombineYear</th>\n",
       "      <th>Height(in)</th>\n",
       "      <th>Weight</th>\n",
       "      <th>40yd</th>\n",
       "      <th>Vertical</th>\n",
       "      <th>Bench</th>\n",
       "      <th>BroadJump</th>\n",
       "      <th>...</th>\n",
       "      <th>Safety</th>\n",
       "      <th>TTL_Points</th>\n",
       "      <th>TD_Other/Game</th>\n",
       "      <th>Ttl_TDs/Game</th>\n",
       "      <th>2PT_Conversions/Game</th>\n",
       "      <th>Safety/Game</th>\n",
       "      <th>TTL_Points/Game</th>\n",
       "      <th>Feet</th>\n",
       "      <th>Inches</th>\n",
       "      <th>Pos</th>\n",
       "    </tr>\n",
       "  </thead>\n",
       "  <tbody>\n",
       "    <tr>\n",
       "      <th>0</th>\n",
       "      <td>Shaun Alexander</td>\n",
       "      <td>RB</td>\n",
       "      <td>Alabama</td>\n",
       "      <td>2000</td>\n",
       "      <td>72</td>\n",
       "      <td>218</td>\n",
       "      <td>4.58</td>\n",
       "      <td>0.0</td>\n",
       "      <td>0.0</td>\n",
       "      <td>0.0</td>\n",
       "      <td>...</td>\n",
       "      <td>0.0</td>\n",
       "      <td>144.0</td>\n",
       "      <td>0.0</td>\n",
       "      <td>2.181818</td>\n",
       "      <td>0.0</td>\n",
       "      <td>0.0</td>\n",
       "      <td>13.090909</td>\n",
       "      <td>72</td>\n",
       "      <td>0</td>\n",
       "      <td>Receivers</td>\n",
       "    </tr>\n",
       "    <tr>\n",
       "      <th>1</th>\n",
       "      <td>LaVar Arrington</td>\n",
       "      <td>OLB</td>\n",
       "      <td>Penn State</td>\n",
       "      <td>2000</td>\n",
       "      <td>75</td>\n",
       "      <td>250</td>\n",
       "      <td>4.53</td>\n",
       "      <td>0.0</td>\n",
       "      <td>0.0</td>\n",
       "      <td>0.0</td>\n",
       "      <td>...</td>\n",
       "      <td>0.0</td>\n",
       "      <td>0.0</td>\n",
       "      <td>0.0</td>\n",
       "      <td>0.000000</td>\n",
       "      <td>0.0</td>\n",
       "      <td>0.0</td>\n",
       "      <td>0.000000</td>\n",
       "      <td>72</td>\n",
       "      <td>3</td>\n",
       "      <td>LBs</td>\n",
       "    </tr>\n",
       "    <tr>\n",
       "      <th>2</th>\n",
       "      <td>John Baker</td>\n",
       "      <td>P</td>\n",
       "      <td>North Texas</td>\n",
       "      <td>2000</td>\n",
       "      <td>75</td>\n",
       "      <td>227</td>\n",
       "      <td>0.00</td>\n",
       "      <td>0.0</td>\n",
       "      <td>0.0</td>\n",
       "      <td>0.0</td>\n",
       "      <td>...</td>\n",
       "      <td>0.0</td>\n",
       "      <td>0.0</td>\n",
       "      <td>0.0</td>\n",
       "      <td>0.000000</td>\n",
       "      <td>0.0</td>\n",
       "      <td>0.0</td>\n",
       "      <td>0.000000</td>\n",
       "      <td>72</td>\n",
       "      <td>3</td>\n",
       "      <td>SpecialTeams</td>\n",
       "    </tr>\n",
       "    <tr>\n",
       "      <th>3</th>\n",
       "      <td>Anthony Becht</td>\n",
       "      <td>TE</td>\n",
       "      <td>West Virginia</td>\n",
       "      <td>2000</td>\n",
       "      <td>78</td>\n",
       "      <td>270</td>\n",
       "      <td>4.78</td>\n",
       "      <td>33.5</td>\n",
       "      <td>0.0</td>\n",
       "      <td>123.0</td>\n",
       "      <td>...</td>\n",
       "      <td>0.0</td>\n",
       "      <td>30.0</td>\n",
       "      <td>0.0</td>\n",
       "      <td>0.454545</td>\n",
       "      <td>0.0</td>\n",
       "      <td>0.0</td>\n",
       "      <td>2.727273</td>\n",
       "      <td>72</td>\n",
       "      <td>6</td>\n",
       "      <td>Receivers</td>\n",
       "    </tr>\n",
       "    <tr>\n",
       "      <th>4</th>\n",
       "      <td>Tom Brady</td>\n",
       "      <td>QB</td>\n",
       "      <td>Michigan</td>\n",
       "      <td>2000</td>\n",
       "      <td>76</td>\n",
       "      <td>211</td>\n",
       "      <td>5.28</td>\n",
       "      <td>24.5</td>\n",
       "      <td>0.0</td>\n",
       "      <td>99.0</td>\n",
       "      <td>...</td>\n",
       "      <td>0.0</td>\n",
       "      <td>6.0</td>\n",
       "      <td>0.0</td>\n",
       "      <td>0.090909</td>\n",
       "      <td>0.0</td>\n",
       "      <td>0.0</td>\n",
       "      <td>0.545455</td>\n",
       "      <td>72</td>\n",
       "      <td>4</td>\n",
       "      <td>QBs</td>\n",
       "    </tr>\n",
       "  </tbody>\n",
       "</table>\n",
       "<p>5 rows × 120 columns</p>\n",
       "</div>"
      ],
      "text/plain": [
       "        PlayerName Position         School  CombineYear  Height(in)  Weight  \\\n",
       "0  Shaun Alexander       RB        Alabama         2000          72     218   \n",
       "1  LaVar Arrington      OLB     Penn State         2000          75     250   \n",
       "2       John Baker        P    North Texas         2000          75     227   \n",
       "3    Anthony Becht       TE  West Virginia         2000          78     270   \n",
       "4        Tom Brady       QB       Michigan         2000          76     211   \n",
       "\n",
       "   40yd  Vertical  Bench  BroadJump  ...  Safety  TTL_Points TD_Other/Game  \\\n",
       "0  4.58       0.0    0.0        0.0  ...     0.0       144.0           0.0   \n",
       "1  4.53       0.0    0.0        0.0  ...     0.0         0.0           0.0   \n",
       "2  0.00       0.0    0.0        0.0  ...     0.0         0.0           0.0   \n",
       "3  4.78      33.5    0.0      123.0  ...     0.0        30.0           0.0   \n",
       "4  5.28      24.5    0.0       99.0  ...     0.0         6.0           0.0   \n",
       "\n",
       "  Ttl_TDs/Game 2PT_Conversions/Game Safety/Game  TTL_Points/Game  Feet  \\\n",
       "0     2.181818                  0.0         0.0        13.090909    72   \n",
       "1     0.000000                  0.0         0.0         0.000000    72   \n",
       "2     0.000000                  0.0         0.0         0.000000    72   \n",
       "3     0.454545                  0.0         0.0         2.727273    72   \n",
       "4     0.090909                  0.0         0.0         0.545455    72   \n",
       "\n",
       "   Inches           Pos  \n",
       "0       0     Receivers  \n",
       "1       3           LBs  \n",
       "2       3  SpecialTeams  \n",
       "3       6     Receivers  \n",
       "4       4           QBs  \n",
       "\n",
       "[5 rows x 120 columns]"
      ]
     },
     "execution_count": 45,
     "metadata": {},
     "output_type": "execute_result"
    }
   ],
   "source": [
    "df.head()"
   ]
  },
  {
   "cell_type": "code",
   "execution_count": 46,
   "metadata": {},
   "outputs": [
    {
     "data": {
      "text/plain": [
       "Receivers         1812\n",
       "DefensiveBacks    1101\n",
       "SpecialTeams      1004\n",
       "LBs                681\n",
       "OffensiveLine      562\n",
       "QBs                332\n",
       "Name: Pos, dtype: int64"
      ]
     },
     "execution_count": 46,
     "metadata": {},
     "output_type": "execute_result"
    }
   ],
   "source": [
    "df['Pos'].value_counts()"
   ]
  },
  {
   "cell_type": "code",
   "execution_count": 73,
   "metadata": {},
   "outputs": [],
   "source": [
    "def plot_outcomes(position_family, df):\n",
    "    dataframe = df[df['Pos'] == position_family]\n",
    "    print(position_family + ' Count: ')\n",
    "    print('-'*40)\n",
    "#     print(dataframe.shape)\n",
    "#     print(dataframe['Round'].value_counts())\n",
    "#     print(round(dataframe['Round'].value_counts(normalize=True), 2))\n",
    "    order = [' 1st ', ' 2nd ', ' 3rd ', ' 4th ', ' 5th ', ' 6th ', ' 7th ', 'Not Drafted']\n",
    "#     plt.figure(figsize=(10, 6))\n",
    "    sns.countplot(dataframe['Round'],order=order, palette='bright');\n",
    "    plt.title(position_family + ' Round Distribution')"
   ]
  },
  {
   "cell_type": "code",
   "execution_count": 74,
   "metadata": {},
   "outputs": [
    {
     "name": "stdout",
     "output_type": "stream",
     "text": [
      "QBs Count: \n",
      "----------------------------------------\n",
      "None\n"
     ]
    },
    {
     "data": {
      "image/png": "[encoded data removed]",
      "text/plain": [
       "<Figure size 432x288 with 1 Axes>"
      ]
     },
     "metadata": {
      "needs_background": "light"
     },
     "output_type": "display_data"
    }
   ],
   "source": [
    "print(plot_outcomes('QBs', df))"
   ]
  },
  {
   "cell_type": "code",
   "execution_count": null,
   "metadata": {},
   "outputs": [],
   "source": []
  }
 ],
 "metadata": {
  "kernelspec": {
   "display_name": "Python 3",
   "language": "python",
   "name": "python3"
  },
  "language_info": {
   "codemirror_mode": {
    "name": "ipython",
    "version": 3
   },
   "file_extension": ".py",
   "mimetype": "text/x-python",
   "name": "python",
   "nbconvert_exporter": "python",
   "pygments_lexer": "ipython3",
   "version": "3.7.6"
  }
 },
 "nbformat": 4,
 "nbformat_minor": 4
}
